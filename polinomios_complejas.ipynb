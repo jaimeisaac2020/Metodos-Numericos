{
  "nbformat": 4,
  "nbformat_minor": 0,
  "metadata": {
    "colab": {
      "name": "polinomios_complejas.ipynb",
      "provenance": [],
      "collapsed_sections": [],
      "authorship_tag": "ABX9TyNTrM+Q7ts4q33fwbW5ArDa",
      "include_colab_link": true
    },
    "kernelspec": {
      "name": "python3",
      "display_name": "Python 3"
    },
    "language_info": {
      "name": "python"
    }
  },
  "cells": [
    {
      "cell_type": "markdown",
      "metadata": {
        "id": "view-in-github",
        "colab_type": "text"
      },
      "source": [
        "<a href=\"https://colab.research.google.com/github/jaimeisaac2020/Metodos-Numericos/blob/mi-github/polinomios_complejas.ipynb\" target=\"_parent\"><img src=\"https://colab.research.google.com/assets/colab-badge.svg\" alt=\"Open In Colab\"/></a>"
      ]
    },
    {
      "cell_type": "code",
      "metadata": {
        "id": "M-bkc90zaKnl"
      },
      "source": [
        "import numpy as np"
      ],
      "execution_count": 58,
      "outputs": []
    },
    {
      "cell_type": "code",
      "metadata": {
        "id": "DbyXkNC6aMwx"
      },
      "source": [
        "p=[3,-2,4,-3,1,-2,0,5]"
      ],
      "execution_count": 59,
      "outputs": []
    },
    {
      "cell_type": "code",
      "metadata": {
        "colab": {
          "base_uri": "https://localhost:8080/"
        },
        "id": "hofwOTQZbzZF",
        "outputId": "8807225d-f2e5-4db1-a6d3-82dad163832e"
      },
      "source": [
        "np.roots(p)"
      ],
      "execution_count": 60,
      "outputs": [
        {
          "output_type": "execute_result",
          "data": {
            "text/plain": [
              "array([ 0.96097538+0.40865895j,  0.96097538-0.40865895j,\n",
              "        0.26561221+1.23340254j,  0.26561221-1.23340254j,\n",
              "       -0.50200482+0.98742683j, -0.50200482-0.98742683j,\n",
              "       -0.78249887+0.j        ])"
            ]
          },
          "metadata": {},
          "execution_count": 60
        }
      ]
    },
    {
      "cell_type": "code",
      "metadata": {
        "id": "1COMsVVkDzJm"
      },
      "source": [
        "import numpy as np"
      ],
      "execution_count": 61,
      "outputs": []
    },
    {
      "cell_type": "code",
      "metadata": {
        "id": "L-ewCa0rD48r"
      },
      "source": [
        "p=[1,0,2,0,4]"
      ],
      "execution_count": 62,
      "outputs": []
    },
    {
      "cell_type": "code",
      "metadata": {
        "colab": {
          "base_uri": "https://localhost:8080/"
        },
        "id": "FHBOudTNEGr5",
        "outputId": "4a0292ad-13f2-4a5d-9074-0211b2a5d1bf"
      },
      "source": [
        "np.roots(p)"
      ],
      "execution_count": 63,
      "outputs": [
        {
          "output_type": "execute_result",
          "data": {
            "text/plain": [
              "array([-0.70710678+1.22474487j, -0.70710678-1.22474487j,\n",
              "        0.70710678+1.22474487j,  0.70710678-1.22474487j])"
            ]
          },
          "metadata": {},
          "execution_count": 63
        }
      ]
    },
    {
      "cell_type": "code",
      "metadata": {
        "id": "0Q3xUUpBZnX3"
      },
      "source": [
        "from scipy.optimize import fsolve"
      ],
      "execution_count": 64,
      "outputs": []
    },
    {
      "cell_type": "code",
      "metadata": {
        "id": "U8Uj_oxFaCZv"
      },
      "source": [
        "f= lambda x: 3*(x**7)-2*(x**6)+4*(x**5)-3*(x**4)+x**3-2*(x**2)+5"
      ],
      "execution_count": 66,
      "outputs": []
    },
    {
      "cell_type": "code",
      "metadata": {
        "id": "Zgr67oFua9Ky"
      },
      "source": [
        "import numpy as np"
      ],
      "execution_count": 67,
      "outputs": []
    },
    {
      "cell_type": "code",
      "metadata": {
        "id": "VnYrZoNXaw9v"
      },
      "source": [
        "x=np.arange(-10,11,1)"
      ],
      "execution_count": 68,
      "outputs": []
    },
    {
      "cell_type": "code",
      "metadata": {
        "colab": {
          "base_uri": "https://localhost:8080/"
        },
        "id": "yXsiDnW8a_j5",
        "outputId": "bbc8d170-49c3-4f7d-c15f-12f8cf1394bf"
      },
      "source": [
        "x"
      ],
      "execution_count": 69,
      "outputs": [
        {
          "output_type": "execute_result",
          "data": {
            "text/plain": [
              "array([-10,  -9,  -8,  -7,  -6,  -5,  -4,  -3,  -2,  -1,   0,   1,   2,\n",
              "         3,   4,   5,   6,   7,   8,   9,  10])"
            ]
          },
          "metadata": {},
          "execution_count": 69
        }
      ]
    },
    {
      "cell_type": "code",
      "metadata": {
        "colab": {
          "base_uri": "https://localhost:8080/"
        },
        "id": "KlTHLUWlcsxD",
        "outputId": "e0db6764-803f-442a-d987-a4328eac8698"
      },
      "source": [
        "f(x)"
      ],
      "execution_count": 70,
      "outputs": [
        {
          "output_type": "execute_result",
          "data": {
            "text/plain": [
              "array([-32431195, -15668554,  -6959739,  -2780794,   -968395,   -280170,\n",
              "          -62299,     -9274,      -699,       -10,         5,         6,\n",
              "             341,      5846,     44325,    213830,    773861,   2295606,\n",
              "         5886341,  13503110,  28370805])"
            ]
          },
          "metadata": {},
          "execution_count": 70
        }
      ]
    },
    {
      "cell_type": "code",
      "metadata": {
        "colab": {
          "base_uri": "https://localhost:8080/",
          "height": 699
        },
        "id": "5qlVYZUDcTC8",
        "outputId": "2dc785b7-8025-44f0-bb05-324a0bcacc85"
      },
      "source": [
        "import pandas as pd\n",
        "tabla=pd.DataFrame(f(x),a)\n",
        "tabla"
      ],
      "execution_count": 71,
      "outputs": [
        {
          "output_type": "execute_result",
          "data": {
            "text/html": [
              "<div>\n",
              "<style scoped>\n",
              "    .dataframe tbody tr th:only-of-type {\n",
              "        vertical-align: middle;\n",
              "    }\n",
              "\n",
              "    .dataframe tbody tr th {\n",
              "        vertical-align: top;\n",
              "    }\n",
              "\n",
              "    .dataframe thead th {\n",
              "        text-align: right;\n",
              "    }\n",
              "</style>\n",
              "<table border=\"1\" class=\"dataframe\">\n",
              "  <thead>\n",
              "    <tr style=\"text-align: right;\">\n",
              "      <th></th>\n",
              "      <th>0</th>\n",
              "    </tr>\n",
              "  </thead>\n",
              "  <tbody>\n",
              "    <tr>\n",
              "      <th>-10</th>\n",
              "      <td>-32431195</td>\n",
              "    </tr>\n",
              "    <tr>\n",
              "      <th>-9</th>\n",
              "      <td>-15668554</td>\n",
              "    </tr>\n",
              "    <tr>\n",
              "      <th>-8</th>\n",
              "      <td>-6959739</td>\n",
              "    </tr>\n",
              "    <tr>\n",
              "      <th>-7</th>\n",
              "      <td>-2780794</td>\n",
              "    </tr>\n",
              "    <tr>\n",
              "      <th>-6</th>\n",
              "      <td>-968395</td>\n",
              "    </tr>\n",
              "    <tr>\n",
              "      <th>-5</th>\n",
              "      <td>-280170</td>\n",
              "    </tr>\n",
              "    <tr>\n",
              "      <th>-4</th>\n",
              "      <td>-62299</td>\n",
              "    </tr>\n",
              "    <tr>\n",
              "      <th>-3</th>\n",
              "      <td>-9274</td>\n",
              "    </tr>\n",
              "    <tr>\n",
              "      <th>-2</th>\n",
              "      <td>-699</td>\n",
              "    </tr>\n",
              "    <tr>\n",
              "      <th>-1</th>\n",
              "      <td>-10</td>\n",
              "    </tr>\n",
              "    <tr>\n",
              "      <th>0</th>\n",
              "      <td>5</td>\n",
              "    </tr>\n",
              "    <tr>\n",
              "      <th>1</th>\n",
              "      <td>6</td>\n",
              "    </tr>\n",
              "    <tr>\n",
              "      <th>2</th>\n",
              "      <td>341</td>\n",
              "    </tr>\n",
              "    <tr>\n",
              "      <th>3</th>\n",
              "      <td>5846</td>\n",
              "    </tr>\n",
              "    <tr>\n",
              "      <th>4</th>\n",
              "      <td>44325</td>\n",
              "    </tr>\n",
              "    <tr>\n",
              "      <th>5</th>\n",
              "      <td>213830</td>\n",
              "    </tr>\n",
              "    <tr>\n",
              "      <th>6</th>\n",
              "      <td>773861</td>\n",
              "    </tr>\n",
              "    <tr>\n",
              "      <th>7</th>\n",
              "      <td>2295606</td>\n",
              "    </tr>\n",
              "    <tr>\n",
              "      <th>8</th>\n",
              "      <td>5886341</td>\n",
              "    </tr>\n",
              "    <tr>\n",
              "      <th>9</th>\n",
              "      <td>13503110</td>\n",
              "    </tr>\n",
              "    <tr>\n",
              "      <th>10</th>\n",
              "      <td>28370805</td>\n",
              "    </tr>\n",
              "  </tbody>\n",
              "</table>\n",
              "</div>"
            ],
            "text/plain": [
              "            0\n",
              "-10 -32431195\n",
              "-9  -15668554\n",
              "-8   -6959739\n",
              "-7   -2780794\n",
              "-6    -968395\n",
              "-5    -280170\n",
              "-4     -62299\n",
              "-3      -9274\n",
              "-2       -699\n",
              "-1        -10\n",
              " 0          5\n",
              " 1          6\n",
              " 2        341\n",
              " 3       5846\n",
              " 4      44325\n",
              " 5     213830\n",
              " 6     773861\n",
              " 7    2295606\n",
              " 8    5886341\n",
              " 9   13503110\n",
              " 10  28370805"
            ]
          },
          "metadata": {},
          "execution_count": 71
        }
      ]
    },
    {
      "cell_type": "code",
      "metadata": {
        "colab": {
          "base_uri": "https://localhost:8080/"
        },
        "id": "tYGgqQVRbBbs",
        "outputId": "4f740611-6212-49c9-d408-a97967f2acd6"
      },
      "source": [
        "f(x)"
      ],
      "execution_count": 73,
      "outputs": [
        {
          "output_type": "execute_result",
          "data": {
            "text/plain": [
              "array([-32431195, -15668554,  -6959739,  -2780794,   -968395,   -280170,\n",
              "          -62299,     -9274,      -699,       -10,         5,         6,\n",
              "             341,      5846,     44325,    213830,    773861,   2295606,\n",
              "         5886341,  13503110,  28370805])"
            ]
          },
          "metadata": {},
          "execution_count": 73
        }
      ]
    },
    {
      "cell_type": "code",
      "metadata": {
        "colab": {
          "base_uri": "https://localhost:8080/"
        },
        "id": "EVJu0GBMbLVP",
        "outputId": "e20eff4d-0792-403f-d2bd-a21f28f0a890"
      },
      "source": [
        "fsolve(f,[-2])"
      ],
      "execution_count": 75,
      "outputs": [
        {
          "output_type": "execute_result",
          "data": {
            "text/plain": [
              "array([-0.78249887])"
            ]
          },
          "metadata": {},
          "execution_count": 75
        }
      ]
    },
    {
      "cell_type": "code",
      "metadata": {
        "id": "qGqsXLEKb6Hg",
        "colab": {
          "base_uri": "https://localhost:8080/"
        },
        "outputId": "88117be3-a294-47b4-bb86-9a758fa5a6ac"
      },
      "source": [
        "# Método de Newton-Raphson\n",
        "# Ejemplo 1 (Burden ejemplo 1 p.51/pdf.61)\n",
        "\n",
        "import numpy as np\n",
        "\n",
        "# INGRESO\n",
        "fx  = lambda x: 3*x**7 - 2*(x**6) +4*(x**5)-3*(x**4)+x**3-2*(x**2)+5\n",
        "dfx = lambda x: 21*x**6 - 12*(x**5) +20*(x**4)-12*(x**3)+3*x**2-4*(x)\n",
        "\n",
        "x0 = -1\n",
        "tolera = 0.00001\n",
        "\n",
        "# PROCEDIMIENTO\n",
        "tabla = []\n",
        "tramo = abs(2*tolera)\n",
        "xi = x0\n",
        "while (tramo>=tolera):\n",
        "    xnuevo = xi - fx(xi)/dfx(xi)\n",
        "    tramo  = abs(xnuevo-xi)\n",
        "    tabla.append([xi,xnuevo,tramo])\n",
        "    xi = xnuevo\n",
        "\n",
        "# convierte la lista a un arreglo.\n",
        "tabla = np.array(tabla)\n",
        "n = len(tabla)\n",
        "\n",
        "# SALIDA\n",
        "print(['xi', 'xnuevo', 'tramo'])\n",
        "np.set_printoptions(precision = 4)\n",
        "print(tabla)\n",
        "print('raiz en: ', xi)\n",
        "print('con error de: ',tramo)"
      ],
      "execution_count": 76,
      "outputs": [
        {
          "output_type": "stream",
          "name": "stdout",
          "text": [
            "['xi', 'xnuevo', 'tramo']\n",
            "[[-1.0000e+00 -8.6111e-01  1.3889e-01]\n",
            " [-8.6111e-01 -7.9542e-01  6.5687e-02]\n",
            " [-7.9542e-01 -7.8289e-01  1.2531e-02]\n",
            " [-7.8289e-01 -7.8250e-01  3.9401e-04]\n",
            " [-7.8250e-01 -7.8250e-01  3.7611e-07]]\n",
            "raiz en:  -0.7824988692822693\n",
            "con error de:  3.7611216829880334e-07\n"
          ]
        }
      ]
    },
    {
      "cell_type": "code",
      "metadata": {
        "id": "hDcnZ61qVqK7"
      },
      "source": [
        "p=np.poly1d([3,-2,4,-3,1,-2,0,5])\n",
        "q=np.poly1d([1,0.7824988692822693])"
      ],
      "execution_count": null,
      "outputs": []
    },
    {
      "cell_type": "code",
      "metadata": {
        "colab": {
          "base_uri": "https://localhost:8080/"
        },
        "id": "mkrLzUkTWCXc",
        "outputId": "0cdeb520-9d9f-4bdb-e6f3-9ee249ab3ea2"
      },
      "source": [
        "p/q"
      ],
      "execution_count": null,
      "outputs": [
        {
          "output_type": "execute_result",
          "data": {
            "text/plain": [
              "(poly1d([ 3.    , -4.3475,  7.4019, -8.792 ,  7.8797, -8.1659,  6.3898]),\n",
              " poly1d([-9.0914e-12]))"
            ]
          },
          "metadata": {},
          "execution_count": 11
        }
      ]
    },
    {
      "cell_type": "code",
      "metadata": {
        "id": "UVo-zD1lWDsa"
      },
      "source": [
        ""
      ],
      "execution_count": null,
      "outputs": []
    }
  ]
}