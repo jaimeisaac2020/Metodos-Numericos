{
  "nbformat": 4,
  "nbformat_minor": 0,
  "metadata": {
    "colab": {
      "name": "bairstow_python.ipynb",
      "provenance": [],
      "authorship_tag": "ABX9TyP9RKujit6hve5pVxxSE08a",
      "include_colab_link": true
    },
    "kernelspec": {
      "name": "python3",
      "display_name": "Python 3"
    },
    "language_info": {
      "name": "python"
    }
  },
  "cells": [
    {
      "cell_type": "markdown",
      "metadata": {
        "id": "view-in-github",
        "colab_type": "text"
      },
      "source": [
        "<a href=\"https://colab.research.google.com/github/jaimeisaac2020/Metodos-Numericos/blob/mi-github/bairstow_python.ipynb\" target=\"_parent\"><img src=\"https://colab.research.google.com/assets/colab-badge.svg\" alt=\"Open In Colab\"/></a>"
      ]
    },
    {
      "cell_type": "code",
      "metadata": {
        "colab": {
          "base_uri": "https://localhost:8080/"
        },
        "id": "yv26s9tobAGx",
        "outputId": "df9fe13d-a635-4b65-8b2d-b50014fa0617"
      },
      "source": [
        "import cmath\n",
        "import random\n",
        "'''\n",
        "   Bairstow's Method where:\n",
        "      r = Initial guess\n",
        "      s = Initial guess\n",
        "     roots = Empty Array\n",
        "   a = Coefficient's vector with increasing powers ot the unknown\n",
        "   g = Polynomial's degree   \n",
        "''' \n",
        "def ctr(z):\n",
        "  return round(z.real,7)+round(z.imag,7)*1j\n",
        "def bairstow(a,r,s,g,roots):\n",
        "  if(g<1):\n",
        "    return None\n",
        "  if(g==1):\n",
        "    roots.append(float(-a[0])/float(a[1]))\n",
        "    return None\n",
        "  if(g==2):\n",
        "    D = (a[1]**2.0)-(4.0)*(a[2])*(a[0])\n",
        "    X1 = (-a[1] - cmath.sqrt(D))/(2.0*a[2])\n",
        "    X2 = (-a[1] + cmath.sqrt(D))/(2.0*a[2])\n",
        "    roots.append(X1)\n",
        "    roots.append(X2)\n",
        "    return None\n",
        "  n = len(a)\n",
        "  b = [0]*len(a)\n",
        "  c = [0]*len(a)\n",
        "  b[n-1] = a[n-1]\n",
        "  b[n-2] = a[n-2] + r*b[n-1]\n",
        "  i = n - 3\n",
        "  while(i>=0):\n",
        "    b[i] = a[i] + r*b[i+1] + s*b[i+2]\n",
        "    i = i - 1\n",
        "  c[n-1] = b[n-1]\n",
        "  c[n-2] = b[n-2] + r*c[n-1]\n",
        "  i = n - 3\n",
        "  while(i>=0):\n",
        "    c[i] = b[i] + r*c[i+1] + s*c[i+2]\n",
        "    i = i - 1\n",
        "  Din = ((c[2]*c[2])-(c[3]*c[1]))**(-1.0)\n",
        "  r = r + (Din)*((c[2])*(-b[1])+(-c[3])*(-b[0]))\n",
        "  s = s + (Din)*((-c[1])*(-b[1])+(c[2])*(-b[0]))\n",
        "  if(abs(b[0])>1E-8 or abs(b[1])>1E-8):\n",
        "    return bairstow(a,r,s,g,roots)\n",
        "  if (g>=3):\n",
        "    Dis = ((-r)**(2.0))-((4.0)*(1.0)*(-s))\n",
        "    X1 = (r - (cmath.sqrt(Dis)))/(2.0)\n",
        "    X2 = (r + (cmath.sqrt(Dis)))/(2.0)\n",
        "    roots.append(X1)\n",
        "    roots.append(X2)\n",
        "    return bairstow(b[2:],r,s,g-2,roots)  \n",
        "roots = []\n",
        "a=[]\n",
        "g=int(input(\"degree ? : \"))\n",
        "for k in range(0,g+1):\n",
        "  A=float(input(\"Coef. X^\"+str(g-k)+\" ? : \"))\n",
        "  a.append(A)\n",
        "a.reverse()\n",
        "print(a)\n",
        "k=1  \n",
        "r = random.random()\n",
        "s = random.random()\n",
        "bairstow(a,r,s,g,roots)\n",
        "print(\"\\nFound Roots => \\n\")\n",
        "for r in roots:\n",
        "  print(\"R\" + str(k) + \" = \" + str(ctr(r)))\n",
        "  k += 1"
      ],
      "execution_count": 5,
      "outputs": [
        {
          "output_type": "stream",
          "name": "stdout",
          "text": [
            "degree ? : 6\n",
            "Coef. X^6 ? : 1\n",
            "Coef. X^5 ? : 37\n",
            "Coef. X^4 ? : 520\n",
            "Coef. X^3 ? : 3490\n",
            "Coef. X^2 ? : 11449\n",
            "Coef. X^1 ? : 16633\n",
            "Coef. X^0 ? : 8190\n",
            "[8190.0, 16633.0, 11449.0, 3490.0, 520.0, 37.0, 1.0]\n",
            "\n",
            "Found Roots => \n",
            "\n",
            "R1 = (-13+0j)\n",
            "R2 = (-1+0j)\n",
            "R3 = (-9+0j)\n",
            "R4 = (-2+0j)\n",
            "R5 = (-7+0j)\n",
            "R6 = (-5+0j)\n"
          ]
        }
      ]
    }
  ]
}