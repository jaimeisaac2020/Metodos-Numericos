{
  "nbformat": 4,
  "nbformat_minor": 0,
  "metadata": {
    "colab": {
      "name": "biseccion_de_varias_formas.ipynb",
      "provenance": [],
      "collapsed_sections": [],
      "authorship_tag": "ABX9TyO1rcL9wcb7FB1qIcQ2ySKt",
      "include_colab_link": true
    },
    "kernelspec": {
      "name": "python3",
      "display_name": "Python 3"
    },
    "language_info": {
      "name": "python"
    }
  },
  "cells": [
    {
      "cell_type": "markdown",
      "metadata": {
        "id": "view-in-github",
        "colab_type": "text"
      },
      "source": [
        "<a href=\"https://colab.research.google.com/github/jaimeisaac2020/Metodos-Numericos/blob/mi-github/biseccion_de_varias_formas.ipynb\" target=\"_parent\"><img src=\"https://colab.research.google.com/assets/colab-badge.svg\" alt=\"Open In Colab\"/></a>"
      ]
    },
    {
      "cell_type": "markdown",
      "metadata": {
        "id": "dS_NVXmswWcL"
      },
      "source": [
        "# UNIVERSIDAD DE EL SALVADOR"
      ]
    },
    {
      "cell_type": "markdown",
      "metadata": {
        "id": "ldfPIxEbwcc-"
      },
      "source": [
        "# FACULTAD MULTIDISCIPLINARIA DE OCCIDENTE\n"
      ]
    },
    {
      "cell_type": "markdown",
      "metadata": {
        "id": "BcpIBarbwh8D"
      },
      "source": [
        ""
      ]
    },
    {
      "cell_type": "markdown",
      "metadata": {
        "id": "Tx0m76kBwQGs"
      },
      "source": [
        "# Metodo de Biseccion en Python."
      ]
    },
    {
      "cell_type": "markdown",
      "metadata": {
        "id": "4cODKTG2w089"
      },
      "source": [
        "## Importando librerias."
      ]
    },
    {
      "cell_type": "code",
      "metadata": {
        "id": "FSRjVVLFwO8w"
      },
      "source": [
        "# Importando librerias.\n",
        "import pandas as pd # Sirve para hacer la tabla de la funcion\n",
        "import numpy as np"
      ],
      "execution_count": null,
      "outputs": []
    },
    {
      "cell_type": "code",
      "metadata": {
        "colab": {
          "base_uri": "https://localhost:8080/"
        },
        "id": "PFqe25TIwzVf",
        "outputId": "e3c0bfe8-0fae-4c17-c571-1d150846551c"
      },
      "source": [
        "#Creando una tabla de datos.\n",
        "x=np.arange(-3,4,1)\n",
        "f=x**2-np.cos(x)-1\n",
        "f\n",
        "\n",
        "tabla=pd.DataFrame({'x':x,'y':f})\n",
        "print(tabla)"
      ],
      "execution_count": null,
      "outputs": [
        {
          "output_type": "stream",
          "name": "stdout",
          "text": [
            "   x         y\n",
            "0 -3  8.989992\n",
            "1 -2  3.416147\n",
            "2 -1 -0.540302\n",
            "3  0 -2.000000\n",
            "4  1 -0.540302\n",
            "5  2  3.416147\n",
            "6  3  8.989992\n"
          ]
        }
      ]
    },
    {
      "cell_type": "markdown",
      "metadata": {
        "id": "VazbavZtyqRK"
      },
      "source": [
        "## Graficando la funcion."
      ]
    },
    {
      "cell_type": "code",
      "metadata": {
        "id": "aeYawjRpyYP7"
      },
      "source": [
        "import matplotlib.pyplot as plt\n",
        "x=np.arange(-3,3,0.001)\n",
        "f=x**2-np.cos(x)-1\n",
        "\n"
      ],
      "execution_count": null,
      "outputs": []
    },
    {
      "cell_type": "code",
      "metadata": {
        "colab": {
          "base_uri": "https://localhost:8080/",
          "height": 320
        },
        "id": "Js2OhwhSzBdk",
        "outputId": "b640e7ac-a9e7-4d8c-9cab-f6e64f065766"
      },
      "source": [
        "plt.figure(figsize=(12,5))# Para tamano de la figura\n",
        "plt.grid()\n",
        "plt.plot(x,f,color='red')# Para graficar\n",
        "plt.axhline(0,color='green')\n",
        "plt.axvline(x=0)\n",
        "plt.show()"
      ],
      "execution_count": null,
      "outputs": [
        {
          "output_type": "display_data",
          "data": {
            "image/png": "[encoded data removed]",
            "text/plain": [
              "<Figure size 864x360 with 1 Axes>"
            ]
          },
          "metadata": {
            "needs_background": "light"
          }
        }
      ]
    },
    {
      "cell_type": "markdown",
      "metadata": {
        "id": "vu08GiGA2U0T"
      },
      "source": [
        "## Metodo de Biseccion con Codigo."
      ]
    },
    {
      "cell_type": "code",
      "metadata": {
        "colab": {
          "base_uri": "https://localhost:8080/"
        },
        "id": "lJ0R7XOz0RET",
        "outputId": "1f35de09-1fe2-4f79-8fc2-701cbc56401c"
      },
      "source": [
        "# Algoritmo de Bisección\n",
        "# [a,b] se escogen de la gráfica de la función\n",
        "# error = tolera\n",
        "import numpy as np\n",
        "\n",
        "# INGRESO\n",
        "fx = lambda x: x-(2)**(-x)\n",
        "a = 0\n",
        "b = 1\n",
        "tolera = 1e-9\n",
        "\n",
        "# PROCEDIMIENTO\n",
        "tabla = []\n",
        "tramo = b-a\n",
        "\n",
        "fa = fx(a)\n",
        "fb = fx(b)\n",
        "i = 1\n",
        "while (tramo>tolera):\n",
        "    c = (a+b)/2\n",
        "    fc = fx(c)\n",
        "    tabla.append([i,a,c,b,fa,fc,fb,tramo])\n",
        "    i = i + 1\n",
        "                 \n",
        "    cambia = np.sign(fa)*np.sign(fc)\n",
        "    if (cambia<0):\n",
        "        b = c\n",
        "        fb = fc\n",
        "    else:\n",
        "        a=c\n",
        "        fa = fc\n",
        "    tramo = b-a\n",
        "c = (a+b)/2\n",
        "fc = fx(c)\n",
        "tabla.append([i,a,c,b,fa,fc,fb,tramo])\n",
        "tabla = np.array(tabla)\n",
        "\n",
        "raiz = c\n",
        "\n",
        "# SALIDA\n",
        "np.set_printoptions(precision = 4)\n",
        "print('[ i, a, c, b, f(a), f(c), f(b), tramo]')\n",
        "# print(tabla)\n",
        "\n",
        "# Tabla con formato\n",
        "n=len(tabla)\n",
        "for i in range(0,n,1):\n",
        "    unafila = tabla[i]\n",
        "    formato = '{:.0f}'+' '+(len(unafila)-1)*'{:.3f} '\n",
        "    unafila = formato.format(*unafila)\n",
        "    print(unafila)\n",
        "    \n",
        "print('raiz: ',raiz)"
      ],
      "execution_count": null,
      "outputs": [
        {
          "output_type": "stream",
          "name": "stdout",
          "text": [
            "[ i, a, c, b, f(a), f(c), f(b), tramo]\n",
            "1 0.000 0.500 1.000 -1.000 -0.207 0.500 1.000 \n",
            "2 0.500 0.750 1.000 -0.207 0.155 0.500 0.500 \n",
            "3 0.500 0.625 0.750 -0.207 -0.023 0.155 0.250 \n",
            "4 0.625 0.688 0.750 -0.023 0.067 0.155 0.125 \n",
            "5 0.625 0.656 0.688 -0.023 0.022 0.067 0.062 \n",
            "6 0.625 0.641 0.656 -0.023 -0.001 0.022 0.031 \n",
            "7 0.641 0.648 0.656 -0.001 0.010 0.022 0.016 \n",
            "8 0.641 0.645 0.648 -0.001 0.005 0.010 0.008 \n",
            "9 0.641 0.643 0.645 -0.001 0.002 0.005 0.004 \n",
            "10 0.641 0.642 0.643 -0.001 0.001 0.002 0.002 \n",
            "11 0.641 0.641 0.642 -0.001 -0.000 0.001 0.001 \n",
            "12 0.641 0.641 0.642 -0.000 0.000 0.001 0.000 \n",
            "13 0.641 0.641 0.641 -0.000 0.000 0.000 0.000 \n",
            "14 0.641 0.641 0.641 -0.000 -0.000 0.000 0.000 \n",
            "15 0.641 0.641 0.641 -0.000 0.000 0.000 0.000 \n",
            "16 0.641 0.641 0.641 -0.000 0.000 0.000 0.000 \n",
            "17 0.641 0.641 0.641 -0.000 -0.000 0.000 0.000 \n",
            "18 0.641 0.641 0.641 -0.000 0.000 0.000 0.000 \n",
            "19 0.641 0.641 0.641 -0.000 -0.000 0.000 0.000 \n",
            "20 0.641 0.641 0.641 -0.000 -0.000 0.000 0.000 \n",
            "21 0.641 0.641 0.641 -0.000 -0.000 0.000 0.000 \n",
            "22 0.641 0.641 0.641 -0.000 -0.000 0.000 0.000 \n",
            "23 0.641 0.641 0.641 -0.000 -0.000 0.000 0.000 \n",
            "24 0.641 0.641 0.641 -0.000 -0.000 0.000 0.000 \n",
            "25 0.641 0.641 0.641 -0.000 -0.000 0.000 0.000 \n",
            "26 0.641 0.641 0.641 -0.000 0.000 0.000 0.000 \n",
            "27 0.641 0.641 0.641 -0.000 -0.000 0.000 0.000 \n",
            "28 0.641 0.641 0.641 -0.000 -0.000 0.000 0.000 \n",
            "29 0.641 0.641 0.641 -0.000 -0.000 0.000 0.000 \n",
            "30 0.641 0.641 0.641 -0.000 0.000 0.000 0.000 \n",
            "31 0.641 0.641 0.641 -0.000 -0.000 0.000 0.000 \n",
            "raiz:  0.6411857441999018\n"
          ]
        }
      ]
    },
    {
      "cell_type": "code",
      "metadata": {
        "id": "pHkpBxIX5jNn"
      },
      "source": [
        "fx = lambda x:  x-(2)**(-x)"
      ],
      "execution_count": null,
      "outputs": []
    },
    {
      "cell_type": "code",
      "metadata": {
        "colab": {
          "base_uri": "https://localhost:8080/"
        },
        "id": "A9lKjlVM5a37",
        "outputId": "307147fa-02f9-4752-aa9f-8759453259f8"
      },
      "source": [
        "fx(0.6411857441999018)"
      ],
      "execution_count": null,
      "outputs": [
        {
          "output_type": "execute_result",
          "data": {
            "text/plain": [
              "-4.406746079155255e-10"
            ]
          },
          "metadata": {},
          "execution_count": 34
        }
      ]
    },
    {
      "cell_type": "markdown",
      "metadata": {
        "id": "XFy_yeOI6mL5"
      },
      "source": [
        "# Metodo de Biseccion con scipy"
      ]
    },
    {
      "cell_type": "code",
      "metadata": {
        "id": "VcHJej-x8y9o"
      },
      "source": [
        ""
      ],
      "execution_count": null,
      "outputs": []
    },
    {
      "cell_type": "code",
      "metadata": {
        "id": "Z0oXIGOy8yoc"
      },
      "source": [
        ""
      ],
      "execution_count": null,
      "outputs": []
    },
    {
      "cell_type": "code",
      "metadata": {
        "id": "omanMj7f8x1D"
      },
      "source": [
        ""
      ],
      "execution_count": null,
      "outputs": []
    },
    {
      "cell_type": "code",
      "metadata": {
        "id": "I59Jf5S36be3"
      },
      "source": [
        "def f(x):\n",
        "  return x**2-np.cos(x)-1"
      ],
      "execution_count": null,
      "outputs": []
    },
    {
      "cell_type": "code",
      "metadata": {
        "colab": {
          "base_uri": "https://localhost:8080/"
        },
        "id": "52HpsbYr7A1D",
        "outputId": "49a171e1-6f79-4995-c2ed-cbb5952bc3fc"
      },
      "source": [
        "from scipy import  optimize as opt\n",
        "opt.bisect(f,1,2,xtol=1e-15)"
      ],
      "execution_count": null,
      "outputs": [
        {
          "output_type": "execute_result",
          "data": {
            "text/plain": [
              "1.176501939901831"
            ]
          },
          "metadata": {},
          "execution_count": 38
        }
      ]
    },
    {
      "cell_type": "markdown",
      "metadata": {
        "id": "DNWc0fZp8mV3"
      },
      "source": [
        "# El mismo ejemplo anterior con fsolve"
      ]
    },
    {
      "cell_type": "code",
      "metadata": {
        "id": "cb2X45a-8qCO"
      },
      "source": [
        "from scipy.optimize import fsolve"
      ],
      "execution_count": null,
      "outputs": []
    },
    {
      "cell_type": "code",
      "metadata": {
        "id": "u4u_CbX59B7p"
      },
      "source": [
        "f= lambda x: x**2-np.cos(x)-1"
      ],
      "execution_count": null,
      "outputs": []
    },
    {
      "cell_type": "code",
      "metadata": {
        "colab": {
          "base_uri": "https://localhost:8080/"
        },
        "id": "u_Pt9vRC9TDr",
        "outputId": "8d1178fe-178f-44d2-db61-aced413971b8"
      },
      "source": [
        "fsolve(f,[-50,50])"
      ],
      "execution_count": null,
      "outputs": [
        {
          "output_type": "execute_result",
          "data": {
            "text/plain": [
              "array([-1.1765,  1.1765])"
            ]
          },
          "metadata": {},
          "execution_count": 53
        }
      ]
    }
  ]
}